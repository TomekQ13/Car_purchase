{
 "cells": [
  {
   "cell_type": "code",
   "execution_count": 2,
   "metadata": {},
   "outputs": [],
   "source": [
    "import pandas as pd\n",
    "import numpy as np"
   ]
  },
  {
   "cell_type": "code",
   "execution_count": 38,
   "metadata": {},
   "outputs": [],
   "source": [
    "def ReadAndPreprocess(path):\n",
    "    import pandas as pd\n",
    "    data = pd.read_csv(path)\n",
    "    data.columns = ['title', 'price', 'sub_title', 'mileage_km', 'year', 'engine_cm3',\n",
    "                'engine_type', 'city', 'province', 'negotiable']\n",
    "    data['price'] = data['price'].apply(lambda x: x.replace(\" \", \"\")).astype('int')\n",
    "    data['mileage_km'] = data['mileage_km'].apply(lambda x: x.replace(\"km\", \"\"))\n",
    "    data['mileage_km'] = data['mileage_km'].apply(lambda x: x.replace(\" \", \"\")).astype('int')\n",
    "    data['engine_cm3'] = data['engine_cm3'].apply(lambda x: x.replace('cm3', ''))\n",
    "    data['engine_cm3'] = data['engine_cm3'].apply(lambda x: x.replace(' ',''))\n",
    "    data['province'] = data['province'].apply(lambda x: x.replace('(',''))\n",
    "    data['province'] = data['province'].apply(lambda x: x.replace(')',''))\n",
    "    return data"
   ]
  },
  {
   "cell_type": "code",
   "execution_count": 15,
   "metadata": {},
   "outputs": [],
   "source": [
    "data = pd.read_csv('run_results_21-04-2020.csv')"
   ]
  },
  {
   "cell_type": "code",
   "execution_count": 39,
   "metadata": {},
   "outputs": [],
   "source": [
    "data = ReadAndPreprocess('run_results_21-04-2020.csv')"
   ]
  },
  {
   "cell_type": "code",
   "execution_count": 40,
   "metadata": {},
   "outputs": [
    {
     "data": {
      "text/html": [
       "<div>\n",
       "<style scoped>\n",
       "    .dataframe tbody tr th:only-of-type {\n",
       "        vertical-align: middle;\n",
       "    }\n",
       "\n",
       "    .dataframe tbody tr th {\n",
       "        vertical-align: top;\n",
       "    }\n",
       "\n",
       "    .dataframe thead th {\n",
       "        text-align: right;\n",
       "    }\n",
       "</style>\n",
       "<table border=\"1\" class=\"dataframe\">\n",
       "  <thead>\n",
       "    <tr style=\"text-align: right;\">\n",
       "      <th></th>\n",
       "      <th>title</th>\n",
       "      <th>price</th>\n",
       "      <th>sub_title</th>\n",
       "      <th>mileage_km</th>\n",
       "      <th>year</th>\n",
       "      <th>engine_cm3</th>\n",
       "      <th>engine_type</th>\n",
       "      <th>city</th>\n",
       "      <th>province</th>\n",
       "      <th>negotiable</th>\n",
       "    </tr>\n",
       "  </thead>\n",
       "  <tbody>\n",
       "    <tr>\n",
       "      <td>0</td>\n",
       "      <td>Ford Focus</td>\n",
       "      <td>850</td>\n",
       "      <td>Kombi benzyna klima</td>\n",
       "      <td>210000</td>\n",
       "      <td>2000</td>\n",
       "      <td>1596</td>\n",
       "      <td>Benzyna</td>\n",
       "      <td>Wilkowice</td>\n",
       "      <td>Śląskie</td>\n",
       "      <td>Do negocjacji</td>\n",
       "    </tr>\n",
       "    <tr>\n",
       "      <td>1</td>\n",
       "      <td>Audi TT</td>\n",
       "      <td>40500</td>\n",
       "      <td>NaN</td>\n",
       "      <td>40483</td>\n",
       "      <td>2008</td>\n",
       "      <td>Benzyna</td>\n",
       "      <td>NaN</td>\n",
       "      <td>Koszalin</td>\n",
       "      <td>Zachodniopomorskie</td>\n",
       "      <td>Do negocjacji</td>\n",
       "    </tr>\n",
       "    <tr>\n",
       "      <td>2</td>\n",
       "      <td>Opel Astra IV</td>\n",
       "      <td>34600</td>\n",
       "      <td>Piękna</td>\n",
       "      <td>67300</td>\n",
       "      <td>2014</td>\n",
       "      <td>1686</td>\n",
       "      <td>Diesel</td>\n",
       "      <td>Wadowice</td>\n",
       "      <td>Małopolskie</td>\n",
       "      <td>NaN</td>\n",
       "    </tr>\n",
       "    <tr>\n",
       "      <td>3</td>\n",
       "      <td>Hyundai ix35</td>\n",
       "      <td>42700</td>\n",
       "      <td>2,0 Benzyna AUTOMAT Nawigacja Klimatronik Pano...</td>\n",
       "      <td>111231</td>\n",
       "      <td>2011</td>\n",
       "      <td>1998</td>\n",
       "      <td>Benzyna</td>\n",
       "      <td>Miechucino</td>\n",
       "      <td>Pomorskie</td>\n",
       "      <td>Do negocjacji</td>\n",
       "    </tr>\n",
       "    <tr>\n",
       "      <td>4</td>\n",
       "      <td>Audi A4 2.0</td>\n",
       "      <td>31700</td>\n",
       "      <td>Audi A4 B8 2009r. zarejstrowana</td>\n",
       "      <td>200000</td>\n",
       "      <td>2009</td>\n",
       "      <td>1968</td>\n",
       "      <td>Diesel</td>\n",
       "      <td>Zduńska Wola</td>\n",
       "      <td>Łódzkie</td>\n",
       "      <td>Do negocjacji</td>\n",
       "    </tr>\n",
       "  </tbody>\n",
       "</table>\n",
       "</div>"
      ],
      "text/plain": [
       "           title  price                                          sub_title  \\\n",
       "0     Ford Focus    850                                Kombi benzyna klima   \n",
       "1        Audi TT  40500                                                NaN   \n",
       "2  Opel Astra IV  34600                                             Piękna   \n",
       "3   Hyundai ix35  42700  2,0 Benzyna AUTOMAT Nawigacja Klimatronik Pano...   \n",
       "4    Audi A4 2.0  31700                    Audi A4 B8 2009r. zarejstrowana   \n",
       "\n",
       "   mileage_km  year engine_cm3 engine_type          city            province  \\\n",
       "0      210000  2000       1596     Benzyna     Wilkowice             Śląskie   \n",
       "1       40483  2008    Benzyna         NaN      Koszalin  Zachodniopomorskie   \n",
       "2       67300  2014       1686      Diesel      Wadowice         Małopolskie   \n",
       "3      111231  2011       1998     Benzyna    Miechucino           Pomorskie   \n",
       "4      200000  2009       1968      Diesel  Zduńska Wola             Łódzkie   \n",
       "\n",
       "      negotiable  \n",
       "0  Do negocjacji  \n",
       "1  Do negocjacji  \n",
       "2            NaN  \n",
       "3  Do negocjacji  \n",
       "4  Do negocjacji  "
      ]
     },
     "execution_count": 40,
     "metadata": {},
     "output_type": "execute_result"
    }
   ],
   "source": [
    "data.head()"
   ]
  }
 ],
 "metadata": {
  "kernelspec": {
   "display_name": "Python 3",
   "language": "python",
   "name": "python3"
  },
  "language_info": {
   "codemirror_mode": {
    "name": "ipython",
    "version": 3
   },
   "file_extension": ".py",
   "mimetype": "text/x-python",
   "name": "python",
   "nbconvert_exporter": "python",
   "pygments_lexer": "ipython3",
   "version": "3.7.4"
  }
 },
 "nbformat": 4,
 "nbformat_minor": 2
}
